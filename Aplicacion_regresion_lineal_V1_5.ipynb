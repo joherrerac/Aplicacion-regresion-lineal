{
  "nbformat": 4,
  "nbformat_minor": 0,
  "metadata": {
    "colab": {
      "provenance": []
    },
    "kernelspec": {
      "name": "python3",
      "display_name": "Python 3"
    },
    "language_info": {
      "name": "python"
    }
  },
  "cells": [
    {
      "cell_type": "markdown",
      "source": [
        "# Ejercicio Aplicación regresión lineal\n",
        "\n",
        "**Autores: Jose Herrera, Ignacio Palma, Benjamín Sepúlveda**\n",
        "\n",
        "**Correos Electrónicos: jo.herrerac@duocuc.cl,  ben.sepulvedat@duocuc.cl, ig.palmam@duocuc.cl**\n",
        "\n",
        "**Fecha de Creación:** Abril de 2025\n",
        "\n",
        "**Versión:** 1.0\n",
        "\n",
        "**Fecha de actualización:** Abril de 2025  \n",
        "**Versión:** 1.5  "
      ],
      "metadata": {
        "id": "i-1nYcitJIOs"
      }
    },
    {
      "cell_type": "markdown",
      "source": [
        "# Respuesta Pregunta 1"
      ],
      "metadata": {
        "id": "jNI0QJJ1EnLi"
      }
    },
    {
      "cell_type": "markdown",
      "source": [
        "De los tres contextos propuestos, el más adecuado para aplicar lo visto hasta ahora en la asignatura es el de Predicción de propinas. Aquí nuestro objetivo es construir un modelo que, a partir de las características de la cuenta y de la mesa (monto total de la factura, tamaño del grupo, día, horario, hábitos de fumar y género del mesero), estime la propina que dejarán los clientes. Este tipo de modelo puede ayudar al restaurante a:\n",
        "\n",
        "*   Planificar mejor la asignación de personal (por ejemplo, ¿cuánto debo reservar para propinas en un turno?).\n",
        "*   Identificar patrones de comportamiento en distintos segmentos de clientes.\n",
        "*   Optimizar agendas y promociones (por ejemplo, detectar días/horarios con propinas históricamente bajas)."
      ],
      "metadata": {
        "id": "DjDrZR8REC1Y"
      }
    },
    {
      "cell_type": "markdown",
      "source": [
        "# Carga de librerias"
      ],
      "metadata": {
        "id": "92J_6hdiGYFt"
      }
    },
    {
      "cell_type": "code",
      "source": [
        "import pandas as pd\n",
        "import seaborn as sns\n",
        "from seaborn import load_dataset\n",
        "import matplotlib.pyplot as plt\n",
        "from sklearn.model_selection import train_test_split\n",
        "from sklearn.linear_model import LinearRegression\n",
        "from sklearn.metrics import mean_squared_error, r2_score"
      ],
      "metadata": {
        "id": "NEWqbuo9ACvK"
      },
      "execution_count": null,
      "outputs": []
    },
    {
      "cell_type": "markdown",
      "source": [
        "# Respuesta Pregunta 2"
      ],
      "metadata": {
        "id": "h55vwXVAGxZn"
      }
    },
    {
      "cell_type": "code",
      "source": [
        "# Carga el dataset de tips para comenzar a trabajar\n",
        "tips = load_dataset(\"tips\")\n",
        "tips.head()"
      ],
      "metadata": {
        "colab": {
          "base_uri": "https://localhost:8080/",
          "height": 206
        },
        "id": "0vvSY8EuATOr",
        "outputId": "709a4d86-cc8b-4c1d-b03f-4ad90daf9ff0"
      },
      "execution_count": null,
      "outputs": [
        {
          "output_type": "execute_result",
          "data": {
            "text/plain": [
              "   total_bill   tip     sex smoker  day    time  size\n",
              "0       16.99  1.01  Female     No  Sun  Dinner     2\n",
              "1       10.34  1.66    Male     No  Sun  Dinner     3\n",
              "2       21.01  3.50    Male     No  Sun  Dinner     3\n",
              "3       23.68  3.31    Male     No  Sun  Dinner     2\n",
              "4       24.59  3.61  Female     No  Sun  Dinner     4"
            ],
            "text/html": [
              "\n",
              "  <div id=\"df-db262087-8bf7-4490-a3b8-ee0280bb9c88\" class=\"colab-df-container\">\n",
              "    <div>\n",
              "<style scoped>\n",
              "    .dataframe tbody tr th:only-of-type {\n",
              "        vertical-align: middle;\n",
              "    }\n",
              "\n",
              "    .dataframe tbody tr th {\n",
              "        vertical-align: top;\n",
              "    }\n",
              "\n",
              "    .dataframe thead th {\n",
              "        text-align: right;\n",
              "    }\n",
              "</style>\n",
              "<table border=\"1\" class=\"dataframe\">\n",
              "  <thead>\n",
              "    <tr style=\"text-align: right;\">\n",
              "      <th></th>\n",
              "      <th>total_bill</th>\n",
              "      <th>tip</th>\n",
              "      <th>sex</th>\n",
              "      <th>smoker</th>\n",
              "      <th>day</th>\n",
              "      <th>time</th>\n",
              "      <th>size</th>\n",
              "    </tr>\n",
              "  </thead>\n",
              "  <tbody>\n",
              "    <tr>\n",
              "      <th>0</th>\n",
              "      <td>16.99</td>\n",
              "      <td>1.01</td>\n",
              "      <td>Female</td>\n",
              "      <td>No</td>\n",
              "      <td>Sun</td>\n",
              "      <td>Dinner</td>\n",
              "      <td>2</td>\n",
              "    </tr>\n",
              "    <tr>\n",
              "      <th>1</th>\n",
              "      <td>10.34</td>\n",
              "      <td>1.66</td>\n",
              "      <td>Male</td>\n",
              "      <td>No</td>\n",
              "      <td>Sun</td>\n",
              "      <td>Dinner</td>\n",
              "      <td>3</td>\n",
              "    </tr>\n",
              "    <tr>\n",
              "      <th>2</th>\n",
              "      <td>21.01</td>\n",
              "      <td>3.50</td>\n",
              "      <td>Male</td>\n",
              "      <td>No</td>\n",
              "      <td>Sun</td>\n",
              "      <td>Dinner</td>\n",
              "      <td>3</td>\n",
              "    </tr>\n",
              "    <tr>\n",
              "      <th>3</th>\n",
              "      <td>23.68</td>\n",
              "      <td>3.31</td>\n",
              "      <td>Male</td>\n",
              "      <td>No</td>\n",
              "      <td>Sun</td>\n",
              "      <td>Dinner</td>\n",
              "      <td>2</td>\n",
              "    </tr>\n",
              "    <tr>\n",
              "      <th>4</th>\n",
              "      <td>24.59</td>\n",
              "      <td>3.61</td>\n",
              "      <td>Female</td>\n",
              "      <td>No</td>\n",
              "      <td>Sun</td>\n",
              "      <td>Dinner</td>\n",
              "      <td>4</td>\n",
              "    </tr>\n",
              "  </tbody>\n",
              "</table>\n",
              "</div>\n",
              "    <div class=\"colab-df-buttons\">\n",
              "\n",
              "  <div class=\"colab-df-container\">\n",
              "    <button class=\"colab-df-convert\" onclick=\"convertToInteractive('df-db262087-8bf7-4490-a3b8-ee0280bb9c88')\"\n",
              "            title=\"Convert this dataframe to an interactive table.\"\n",
              "            style=\"display:none;\">\n",
              "\n",
              "  <svg xmlns=\"http://www.w3.org/2000/svg\" height=\"24px\" viewBox=\"0 -960 960 960\">\n",
              "    <path d=\"M120-120v-720h720v720H120Zm60-500h600v-160H180v160Zm220 220h160v-160H400v160Zm0 220h160v-160H400v160ZM180-400h160v-160H180v160Zm440 0h160v-160H620v160ZM180-180h160v-160H180v160Zm440 0h160v-160H620v160Z\"/>\n",
              "  </svg>\n",
              "    </button>\n",
              "\n",
              "  <style>\n",
              "    .colab-df-container {\n",
              "      display:flex;\n",
              "      gap: 12px;\n",
              "    }\n",
              "\n",
              "    .colab-df-convert {\n",
              "      background-color: #E8F0FE;\n",
              "      border: none;\n",
              "      border-radius: 50%;\n",
              "      cursor: pointer;\n",
              "      display: none;\n",
              "      fill: #1967D2;\n",
              "      height: 32px;\n",
              "      padding: 0 0 0 0;\n",
              "      width: 32px;\n",
              "    }\n",
              "\n",
              "    .colab-df-convert:hover {\n",
              "      background-color: #E2EBFA;\n",
              "      box-shadow: 0px 1px 2px rgba(60, 64, 67, 0.3), 0px 1px 3px 1px rgba(60, 64, 67, 0.15);\n",
              "      fill: #174EA6;\n",
              "    }\n",
              "\n",
              "    .colab-df-buttons div {\n",
              "      margin-bottom: 4px;\n",
              "    }\n",
              "\n",
              "    [theme=dark] .colab-df-convert {\n",
              "      background-color: #3B4455;\n",
              "      fill: #D2E3FC;\n",
              "    }\n",
              "\n",
              "    [theme=dark] .colab-df-convert:hover {\n",
              "      background-color: #434B5C;\n",
              "      box-shadow: 0px 1px 3px 1px rgba(0, 0, 0, 0.15);\n",
              "      filter: drop-shadow(0px 1px 2px rgba(0, 0, 0, 0.3));\n",
              "      fill: #FFFFFF;\n",
              "    }\n",
              "  </style>\n",
              "\n",
              "    <script>\n",
              "      const buttonEl =\n",
              "        document.querySelector('#df-db262087-8bf7-4490-a3b8-ee0280bb9c88 button.colab-df-convert');\n",
              "      buttonEl.style.display =\n",
              "        google.colab.kernel.accessAllowed ? 'block' : 'none';\n",
              "\n",
              "      async function convertToInteractive(key) {\n",
              "        const element = document.querySelector('#df-db262087-8bf7-4490-a3b8-ee0280bb9c88');\n",
              "        const dataTable =\n",
              "          await google.colab.kernel.invokeFunction('convertToInteractive',\n",
              "                                                    [key], {});\n",
              "        if (!dataTable) return;\n",
              "\n",
              "        const docLinkHtml = 'Like what you see? Visit the ' +\n",
              "          '<a target=\"_blank\" href=https://colab.research.google.com/notebooks/data_table.ipynb>data table notebook</a>'\n",
              "          + ' to learn more about interactive tables.';\n",
              "        element.innerHTML = '';\n",
              "        dataTable['output_type'] = 'display_data';\n",
              "        await google.colab.output.renderOutput(dataTable, element);\n",
              "        const docLink = document.createElement('div');\n",
              "        docLink.innerHTML = docLinkHtml;\n",
              "        element.appendChild(docLink);\n",
              "      }\n",
              "    </script>\n",
              "  </div>\n",
              "\n",
              "\n",
              "<div id=\"df-b24dbe7d-35d4-4555-a918-16938065b69e\">\n",
              "  <button class=\"colab-df-quickchart\" onclick=\"quickchart('df-b24dbe7d-35d4-4555-a918-16938065b69e')\"\n",
              "            title=\"Suggest charts\"\n",
              "            style=\"display:none;\">\n",
              "\n",
              "<svg xmlns=\"http://www.w3.org/2000/svg\" height=\"24px\"viewBox=\"0 0 24 24\"\n",
              "     width=\"24px\">\n",
              "    <g>\n",
              "        <path d=\"M19 3H5c-1.1 0-2 .9-2 2v14c0 1.1.9 2 2 2h14c1.1 0 2-.9 2-2V5c0-1.1-.9-2-2-2zM9 17H7v-7h2v7zm4 0h-2V7h2v10zm4 0h-2v-4h2v4z\"/>\n",
              "    </g>\n",
              "</svg>\n",
              "  </button>\n",
              "\n",
              "<style>\n",
              "  .colab-df-quickchart {\n",
              "      --bg-color: #E8F0FE;\n",
              "      --fill-color: #1967D2;\n",
              "      --hover-bg-color: #E2EBFA;\n",
              "      --hover-fill-color: #174EA6;\n",
              "      --disabled-fill-color: #AAA;\n",
              "      --disabled-bg-color: #DDD;\n",
              "  }\n",
              "\n",
              "  [theme=dark] .colab-df-quickchart {\n",
              "      --bg-color: #3B4455;\n",
              "      --fill-color: #D2E3FC;\n",
              "      --hover-bg-color: #434B5C;\n",
              "      --hover-fill-color: #FFFFFF;\n",
              "      --disabled-bg-color: #3B4455;\n",
              "      --disabled-fill-color: #666;\n",
              "  }\n",
              "\n",
              "  .colab-df-quickchart {\n",
              "    background-color: var(--bg-color);\n",
              "    border: none;\n",
              "    border-radius: 50%;\n",
              "    cursor: pointer;\n",
              "    display: none;\n",
              "    fill: var(--fill-color);\n",
              "    height: 32px;\n",
              "    padding: 0;\n",
              "    width: 32px;\n",
              "  }\n",
              "\n",
              "  .colab-df-quickchart:hover {\n",
              "    background-color: var(--hover-bg-color);\n",
              "    box-shadow: 0 1px 2px rgba(60, 64, 67, 0.3), 0 1px 3px 1px rgba(60, 64, 67, 0.15);\n",
              "    fill: var(--button-hover-fill-color);\n",
              "  }\n",
              "\n",
              "  .colab-df-quickchart-complete:disabled,\n",
              "  .colab-df-quickchart-complete:disabled:hover {\n",
              "    background-color: var(--disabled-bg-color);\n",
              "    fill: var(--disabled-fill-color);\n",
              "    box-shadow: none;\n",
              "  }\n",
              "\n",
              "  .colab-df-spinner {\n",
              "    border: 2px solid var(--fill-color);\n",
              "    border-color: transparent;\n",
              "    border-bottom-color: var(--fill-color);\n",
              "    animation:\n",
              "      spin 1s steps(1) infinite;\n",
              "  }\n",
              "\n",
              "  @keyframes spin {\n",
              "    0% {\n",
              "      border-color: transparent;\n",
              "      border-bottom-color: var(--fill-color);\n",
              "      border-left-color: var(--fill-color);\n",
              "    }\n",
              "    20% {\n",
              "      border-color: transparent;\n",
              "      border-left-color: var(--fill-color);\n",
              "      border-top-color: var(--fill-color);\n",
              "    }\n",
              "    30% {\n",
              "      border-color: transparent;\n",
              "      border-left-color: var(--fill-color);\n",
              "      border-top-color: var(--fill-color);\n",
              "      border-right-color: var(--fill-color);\n",
              "    }\n",
              "    40% {\n",
              "      border-color: transparent;\n",
              "      border-right-color: var(--fill-color);\n",
              "      border-top-color: var(--fill-color);\n",
              "    }\n",
              "    60% {\n",
              "      border-color: transparent;\n",
              "      border-right-color: var(--fill-color);\n",
              "    }\n",
              "    80% {\n",
              "      border-color: transparent;\n",
              "      border-right-color: var(--fill-color);\n",
              "      border-bottom-color: var(--fill-color);\n",
              "    }\n",
              "    90% {\n",
              "      border-color: transparent;\n",
              "      border-bottom-color: var(--fill-color);\n",
              "    }\n",
              "  }\n",
              "</style>\n",
              "\n",
              "  <script>\n",
              "    async function quickchart(key) {\n",
              "      const quickchartButtonEl =\n",
              "        document.querySelector('#' + key + ' button');\n",
              "      quickchartButtonEl.disabled = true;  // To prevent multiple clicks.\n",
              "      quickchartButtonEl.classList.add('colab-df-spinner');\n",
              "      try {\n",
              "        const charts = await google.colab.kernel.invokeFunction(\n",
              "            'suggestCharts', [key], {});\n",
              "      } catch (error) {\n",
              "        console.error('Error during call to suggestCharts:', error);\n",
              "      }\n",
              "      quickchartButtonEl.classList.remove('colab-df-spinner');\n",
              "      quickchartButtonEl.classList.add('colab-df-quickchart-complete');\n",
              "    }\n",
              "    (() => {\n",
              "      let quickchartButtonEl =\n",
              "        document.querySelector('#df-b24dbe7d-35d4-4555-a918-16938065b69e button');\n",
              "      quickchartButtonEl.style.display =\n",
              "        google.colab.kernel.accessAllowed ? 'block' : 'none';\n",
              "    })();\n",
              "  </script>\n",
              "</div>\n",
              "\n",
              "    </div>\n",
              "  </div>\n"
            ],
            "application/vnd.google.colaboratory.intrinsic+json": {
              "type": "dataframe",
              "variable_name": "tips",
              "summary": "{\n  \"name\": \"tips\",\n  \"rows\": 244,\n  \"fields\": [\n    {\n      \"column\": \"total_bill\",\n      \"properties\": {\n        \"dtype\": \"number\",\n        \"std\": 8.902411954856856,\n        \"min\": 3.07,\n        \"max\": 50.81,\n        \"num_unique_values\": 229,\n        \"samples\": [\n          22.12,\n          20.23,\n          14.78\n        ],\n        \"semantic_type\": \"\",\n        \"description\": \"\"\n      }\n    },\n    {\n      \"column\": \"tip\",\n      \"properties\": {\n        \"dtype\": \"number\",\n        \"std\": 1.3836381890011826,\n        \"min\": 1.0,\n        \"max\": 10.0,\n        \"num_unique_values\": 123,\n        \"samples\": [\n          3.35,\n          1.5,\n          6.73\n        ],\n        \"semantic_type\": \"\",\n        \"description\": \"\"\n      }\n    },\n    {\n      \"column\": \"sex\",\n      \"properties\": {\n        \"dtype\": \"category\",\n        \"num_unique_values\": 2,\n        \"samples\": [\n          \"Male\",\n          \"Female\"\n        ],\n        \"semantic_type\": \"\",\n        \"description\": \"\"\n      }\n    },\n    {\n      \"column\": \"smoker\",\n      \"properties\": {\n        \"dtype\": \"category\",\n        \"num_unique_values\": 2,\n        \"samples\": [\n          \"Yes\",\n          \"No\"\n        ],\n        \"semantic_type\": \"\",\n        \"description\": \"\"\n      }\n    },\n    {\n      \"column\": \"day\",\n      \"properties\": {\n        \"dtype\": \"category\",\n        \"num_unique_values\": 4,\n        \"samples\": [\n          \"Sat\",\n          \"Fri\"\n        ],\n        \"semantic_type\": \"\",\n        \"description\": \"\"\n      }\n    },\n    {\n      \"column\": \"time\",\n      \"properties\": {\n        \"dtype\": \"category\",\n        \"num_unique_values\": 2,\n        \"samples\": [\n          \"Lunch\",\n          \"Dinner\"\n        ],\n        \"semantic_type\": \"\",\n        \"description\": \"\"\n      }\n    },\n    {\n      \"column\": \"size\",\n      \"properties\": {\n        \"dtype\": \"number\",\n        \"std\": 0,\n        \"min\": 1,\n        \"max\": 6,\n        \"num_unique_values\": 6,\n        \"samples\": [\n          2,\n          3\n        ],\n        \"semantic_type\": \"\",\n        \"description\": \"\"\n      }\n    }\n  ]\n}"
            }
          },
          "metadata": {},
          "execution_count": 3
        }
      ]
    },
    {
      "cell_type": "code",
      "source": [
        "# Muestra el dataset completo\n",
        "display(tips)"
      ],
      "metadata": {
        "colab": {
          "base_uri": "https://localhost:8080/",
          "height": 423
        },
        "id": "ZW4P13xEDtWm",
        "outputId": "b1fd9b69-9cb5-47b4-edcd-42149373ae31"
      },
      "execution_count": null,
      "outputs": [
        {
          "output_type": "display_data",
          "data": {
            "text/plain": [
              "     total_bill   tip     sex smoker   day    time  size\n",
              "0         16.99  1.01  Female     No   Sun  Dinner     2\n",
              "1         10.34  1.66    Male     No   Sun  Dinner     3\n",
              "2         21.01  3.50    Male     No   Sun  Dinner     3\n",
              "3         23.68  3.31    Male     No   Sun  Dinner     2\n",
              "4         24.59  3.61  Female     No   Sun  Dinner     4\n",
              "..          ...   ...     ...    ...   ...     ...   ...\n",
              "239       29.03  5.92    Male     No   Sat  Dinner     3\n",
              "240       27.18  2.00  Female    Yes   Sat  Dinner     2\n",
              "241       22.67  2.00    Male    Yes   Sat  Dinner     2\n",
              "242       17.82  1.75    Male     No   Sat  Dinner     2\n",
              "243       18.78  3.00  Female     No  Thur  Dinner     2\n",
              "\n",
              "[244 rows x 7 columns]"
            ],
            "text/html": [
              "\n",
              "  <div id=\"df-457430d0-5bbc-4f7f-a5a2-13ed97fcf952\" class=\"colab-df-container\">\n",
              "    <div>\n",
              "<style scoped>\n",
              "    .dataframe tbody tr th:only-of-type {\n",
              "        vertical-align: middle;\n",
              "    }\n",
              "\n",
              "    .dataframe tbody tr th {\n",
              "        vertical-align: top;\n",
              "    }\n",
              "\n",
              "    .dataframe thead th {\n",
              "        text-align: right;\n",
              "    }\n",
              "</style>\n",
              "<table border=\"1\" class=\"dataframe\">\n",
              "  <thead>\n",
              "    <tr style=\"text-align: right;\">\n",
              "      <th></th>\n",
              "      <th>total_bill</th>\n",
              "      <th>tip</th>\n",
              "      <th>sex</th>\n",
              "      <th>smoker</th>\n",
              "      <th>day</th>\n",
              "      <th>time</th>\n",
              "      <th>size</th>\n",
              "    </tr>\n",
              "  </thead>\n",
              "  <tbody>\n",
              "    <tr>\n",
              "      <th>0</th>\n",
              "      <td>16.99</td>\n",
              "      <td>1.01</td>\n",
              "      <td>Female</td>\n",
              "      <td>No</td>\n",
              "      <td>Sun</td>\n",
              "      <td>Dinner</td>\n",
              "      <td>2</td>\n",
              "    </tr>\n",
              "    <tr>\n",
              "      <th>1</th>\n",
              "      <td>10.34</td>\n",
              "      <td>1.66</td>\n",
              "      <td>Male</td>\n",
              "      <td>No</td>\n",
              "      <td>Sun</td>\n",
              "      <td>Dinner</td>\n",
              "      <td>3</td>\n",
              "    </tr>\n",
              "    <tr>\n",
              "      <th>2</th>\n",
              "      <td>21.01</td>\n",
              "      <td>3.50</td>\n",
              "      <td>Male</td>\n",
              "      <td>No</td>\n",
              "      <td>Sun</td>\n",
              "      <td>Dinner</td>\n",
              "      <td>3</td>\n",
              "    </tr>\n",
              "    <tr>\n",
              "      <th>3</th>\n",
              "      <td>23.68</td>\n",
              "      <td>3.31</td>\n",
              "      <td>Male</td>\n",
              "      <td>No</td>\n",
              "      <td>Sun</td>\n",
              "      <td>Dinner</td>\n",
              "      <td>2</td>\n",
              "    </tr>\n",
              "    <tr>\n",
              "      <th>4</th>\n",
              "      <td>24.59</td>\n",
              "      <td>3.61</td>\n",
              "      <td>Female</td>\n",
              "      <td>No</td>\n",
              "      <td>Sun</td>\n",
              "      <td>Dinner</td>\n",
              "      <td>4</td>\n",
              "    </tr>\n",
              "    <tr>\n",
              "      <th>...</th>\n",
              "      <td>...</td>\n",
              "      <td>...</td>\n",
              "      <td>...</td>\n",
              "      <td>...</td>\n",
              "      <td>...</td>\n",
              "      <td>...</td>\n",
              "      <td>...</td>\n",
              "    </tr>\n",
              "    <tr>\n",
              "      <th>239</th>\n",
              "      <td>29.03</td>\n",
              "      <td>5.92</td>\n",
              "      <td>Male</td>\n",
              "      <td>No</td>\n",
              "      <td>Sat</td>\n",
              "      <td>Dinner</td>\n",
              "      <td>3</td>\n",
              "    </tr>\n",
              "    <tr>\n",
              "      <th>240</th>\n",
              "      <td>27.18</td>\n",
              "      <td>2.00</td>\n",
              "      <td>Female</td>\n",
              "      <td>Yes</td>\n",
              "      <td>Sat</td>\n",
              "      <td>Dinner</td>\n",
              "      <td>2</td>\n",
              "    </tr>\n",
              "    <tr>\n",
              "      <th>241</th>\n",
              "      <td>22.67</td>\n",
              "      <td>2.00</td>\n",
              "      <td>Male</td>\n",
              "      <td>Yes</td>\n",
              "      <td>Sat</td>\n",
              "      <td>Dinner</td>\n",
              "      <td>2</td>\n",
              "    </tr>\n",
              "    <tr>\n",
              "      <th>242</th>\n",
              "      <td>17.82</td>\n",
              "      <td>1.75</td>\n",
              "      <td>Male</td>\n",
              "      <td>No</td>\n",
              "      <td>Sat</td>\n",
              "      <td>Dinner</td>\n",
              "      <td>2</td>\n",
              "    </tr>\n",
              "    <tr>\n",
              "      <th>243</th>\n",
              "      <td>18.78</td>\n",
              "      <td>3.00</td>\n",
              "      <td>Female</td>\n",
              "      <td>No</td>\n",
              "      <td>Thur</td>\n",
              "      <td>Dinner</td>\n",
              "      <td>2</td>\n",
              "    </tr>\n",
              "  </tbody>\n",
              "</table>\n",
              "<p>244 rows × 7 columns</p>\n",
              "</div>\n",
              "    <div class=\"colab-df-buttons\">\n",
              "\n",
              "  <div class=\"colab-df-container\">\n",
              "    <button class=\"colab-df-convert\" onclick=\"convertToInteractive('df-457430d0-5bbc-4f7f-a5a2-13ed97fcf952')\"\n",
              "            title=\"Convert this dataframe to an interactive table.\"\n",
              "            style=\"display:none;\">\n",
              "\n",
              "  <svg xmlns=\"http://www.w3.org/2000/svg\" height=\"24px\" viewBox=\"0 -960 960 960\">\n",
              "    <path d=\"M120-120v-720h720v720H120Zm60-500h600v-160H180v160Zm220 220h160v-160H400v160Zm0 220h160v-160H400v160ZM180-400h160v-160H180v160Zm440 0h160v-160H620v160ZM180-180h160v-160H180v160Zm440 0h160v-160H620v160Z\"/>\n",
              "  </svg>\n",
              "    </button>\n",
              "\n",
              "  <style>\n",
              "    .colab-df-container {\n",
              "      display:flex;\n",
              "      gap: 12px;\n",
              "    }\n",
              "\n",
              "    .colab-df-convert {\n",
              "      background-color: #E8F0FE;\n",
              "      border: none;\n",
              "      border-radius: 50%;\n",
              "      cursor: pointer;\n",
              "      display: none;\n",
              "      fill: #1967D2;\n",
              "      height: 32px;\n",
              "      padding: 0 0 0 0;\n",
              "      width: 32px;\n",
              "    }\n",
              "\n",
              "    .colab-df-convert:hover {\n",
              "      background-color: #E2EBFA;\n",
              "      box-shadow: 0px 1px 2px rgba(60, 64, 67, 0.3), 0px 1px 3px 1px rgba(60, 64, 67, 0.15);\n",
              "      fill: #174EA6;\n",
              "    }\n",
              "\n",
              "    .colab-df-buttons div {\n",
              "      margin-bottom: 4px;\n",
              "    }\n",
              "\n",
              "    [theme=dark] .colab-df-convert {\n",
              "      background-color: #3B4455;\n",
              "      fill: #D2E3FC;\n",
              "    }\n",
              "\n",
              "    [theme=dark] .colab-df-convert:hover {\n",
              "      background-color: #434B5C;\n",
              "      box-shadow: 0px 1px 3px 1px rgba(0, 0, 0, 0.15);\n",
              "      filter: drop-shadow(0px 1px 2px rgba(0, 0, 0, 0.3));\n",
              "      fill: #FFFFFF;\n",
              "    }\n",
              "  </style>\n",
              "\n",
              "    <script>\n",
              "      const buttonEl =\n",
              "        document.querySelector('#df-457430d0-5bbc-4f7f-a5a2-13ed97fcf952 button.colab-df-convert');\n",
              "      buttonEl.style.display =\n",
              "        google.colab.kernel.accessAllowed ? 'block' : 'none';\n",
              "\n",
              "      async function convertToInteractive(key) {\n",
              "        const element = document.querySelector('#df-457430d0-5bbc-4f7f-a5a2-13ed97fcf952');\n",
              "        const dataTable =\n",
              "          await google.colab.kernel.invokeFunction('convertToInteractive',\n",
              "                                                    [key], {});\n",
              "        if (!dataTable) return;\n",
              "\n",
              "        const docLinkHtml = 'Like what you see? Visit the ' +\n",
              "          '<a target=\"_blank\" href=https://colab.research.google.com/notebooks/data_table.ipynb>data table notebook</a>'\n",
              "          + ' to learn more about interactive tables.';\n",
              "        element.innerHTML = '';\n",
              "        dataTable['output_type'] = 'display_data';\n",
              "        await google.colab.output.renderOutput(dataTable, element);\n",
              "        const docLink = document.createElement('div');\n",
              "        docLink.innerHTML = docLinkHtml;\n",
              "        element.appendChild(docLink);\n",
              "      }\n",
              "    </script>\n",
              "  </div>\n",
              "\n",
              "\n",
              "<div id=\"df-6e1a122a-b7cb-4847-b120-a5d7d2af1a09\">\n",
              "  <button class=\"colab-df-quickchart\" onclick=\"quickchart('df-6e1a122a-b7cb-4847-b120-a5d7d2af1a09')\"\n",
              "            title=\"Suggest charts\"\n",
              "            style=\"display:none;\">\n",
              "\n",
              "<svg xmlns=\"http://www.w3.org/2000/svg\" height=\"24px\"viewBox=\"0 0 24 24\"\n",
              "     width=\"24px\">\n",
              "    <g>\n",
              "        <path d=\"M19 3H5c-1.1 0-2 .9-2 2v14c0 1.1.9 2 2 2h14c1.1 0 2-.9 2-2V5c0-1.1-.9-2-2-2zM9 17H7v-7h2v7zm4 0h-2V7h2v10zm4 0h-2v-4h2v4z\"/>\n",
              "    </g>\n",
              "</svg>\n",
              "  </button>\n",
              "\n",
              "<style>\n",
              "  .colab-df-quickchart {\n",
              "      --bg-color: #E8F0FE;\n",
              "      --fill-color: #1967D2;\n",
              "      --hover-bg-color: #E2EBFA;\n",
              "      --hover-fill-color: #174EA6;\n",
              "      --disabled-fill-color: #AAA;\n",
              "      --disabled-bg-color: #DDD;\n",
              "  }\n",
              "\n",
              "  [theme=dark] .colab-df-quickchart {\n",
              "      --bg-color: #3B4455;\n",
              "      --fill-color: #D2E3FC;\n",
              "      --hover-bg-color: #434B5C;\n",
              "      --hover-fill-color: #FFFFFF;\n",
              "      --disabled-bg-color: #3B4455;\n",
              "      --disabled-fill-color: #666;\n",
              "  }\n",
              "\n",
              "  .colab-df-quickchart {\n",
              "    background-color: var(--bg-color);\n",
              "    border: none;\n",
              "    border-radius: 50%;\n",
              "    cursor: pointer;\n",
              "    display: none;\n",
              "    fill: var(--fill-color);\n",
              "    height: 32px;\n",
              "    padding: 0;\n",
              "    width: 32px;\n",
              "  }\n",
              "\n",
              "  .colab-df-quickchart:hover {\n",
              "    background-color: var(--hover-bg-color);\n",
              "    box-shadow: 0 1px 2px rgba(60, 64, 67, 0.3), 0 1px 3px 1px rgba(60, 64, 67, 0.15);\n",
              "    fill: var(--button-hover-fill-color);\n",
              "  }\n",
              "\n",
              "  .colab-df-quickchart-complete:disabled,\n",
              "  .colab-df-quickchart-complete:disabled:hover {\n",
              "    background-color: var(--disabled-bg-color);\n",
              "    fill: var(--disabled-fill-color);\n",
              "    box-shadow: none;\n",
              "  }\n",
              "\n",
              "  .colab-df-spinner {\n",
              "    border: 2px solid var(--fill-color);\n",
              "    border-color: transparent;\n",
              "    border-bottom-color: var(--fill-color);\n",
              "    animation:\n",
              "      spin 1s steps(1) infinite;\n",
              "  }\n",
              "\n",
              "  @keyframes spin {\n",
              "    0% {\n",
              "      border-color: transparent;\n",
              "      border-bottom-color: var(--fill-color);\n",
              "      border-left-color: var(--fill-color);\n",
              "    }\n",
              "    20% {\n",
              "      border-color: transparent;\n",
              "      border-left-color: var(--fill-color);\n",
              "      border-top-color: var(--fill-color);\n",
              "    }\n",
              "    30% {\n",
              "      border-color: transparent;\n",
              "      border-left-color: var(--fill-color);\n",
              "      border-top-color: var(--fill-color);\n",
              "      border-right-color: var(--fill-color);\n",
              "    }\n",
              "    40% {\n",
              "      border-color: transparent;\n",
              "      border-right-color: var(--fill-color);\n",
              "      border-top-color: var(--fill-color);\n",
              "    }\n",
              "    60% {\n",
              "      border-color: transparent;\n",
              "      border-right-color: var(--fill-color);\n",
              "    }\n",
              "    80% {\n",
              "      border-color: transparent;\n",
              "      border-right-color: var(--fill-color);\n",
              "      border-bottom-color: var(--fill-color);\n",
              "    }\n",
              "    90% {\n",
              "      border-color: transparent;\n",
              "      border-bottom-color: var(--fill-color);\n",
              "    }\n",
              "  }\n",
              "</style>\n",
              "\n",
              "  <script>\n",
              "    async function quickchart(key) {\n",
              "      const quickchartButtonEl =\n",
              "        document.querySelector('#' + key + ' button');\n",
              "      quickchartButtonEl.disabled = true;  // To prevent multiple clicks.\n",
              "      quickchartButtonEl.classList.add('colab-df-spinner');\n",
              "      try {\n",
              "        const charts = await google.colab.kernel.invokeFunction(\n",
              "            'suggestCharts', [key], {});\n",
              "      } catch (error) {\n",
              "        console.error('Error during call to suggestCharts:', error);\n",
              "      }\n",
              "      quickchartButtonEl.classList.remove('colab-df-spinner');\n",
              "      quickchartButtonEl.classList.add('colab-df-quickchart-complete');\n",
              "    }\n",
              "    (() => {\n",
              "      let quickchartButtonEl =\n",
              "        document.querySelector('#df-6e1a122a-b7cb-4847-b120-a5d7d2af1a09 button');\n",
              "      quickchartButtonEl.style.display =\n",
              "        google.colab.kernel.accessAllowed ? 'block' : 'none';\n",
              "    })();\n",
              "  </script>\n",
              "</div>\n",
              "\n",
              "  <div id=\"id_05ac01f7-dc71-46d4-b466-4d22467cdbd5\">\n",
              "    <style>\n",
              "      .colab-df-generate {\n",
              "        background-color: #E8F0FE;\n",
              "        border: none;\n",
              "        border-radius: 50%;\n",
              "        cursor: pointer;\n",
              "        display: none;\n",
              "        fill: #1967D2;\n",
              "        height: 32px;\n",
              "        padding: 0 0 0 0;\n",
              "        width: 32px;\n",
              "      }\n",
              "\n",
              "      .colab-df-generate:hover {\n",
              "        background-color: #E2EBFA;\n",
              "        box-shadow: 0px 1px 2px rgba(60, 64, 67, 0.3), 0px 1px 3px 1px rgba(60, 64, 67, 0.15);\n",
              "        fill: #174EA6;\n",
              "      }\n",
              "\n",
              "      [theme=dark] .colab-df-generate {\n",
              "        background-color: #3B4455;\n",
              "        fill: #D2E3FC;\n",
              "      }\n",
              "\n",
              "      [theme=dark] .colab-df-generate:hover {\n",
              "        background-color: #434B5C;\n",
              "        box-shadow: 0px 1px 3px 1px rgba(0, 0, 0, 0.15);\n",
              "        filter: drop-shadow(0px 1px 2px rgba(0, 0, 0, 0.3));\n",
              "        fill: #FFFFFF;\n",
              "      }\n",
              "    </style>\n",
              "    <button class=\"colab-df-generate\" onclick=\"generateWithVariable('tips')\"\n",
              "            title=\"Generate code using this dataframe.\"\n",
              "            style=\"display:none;\">\n",
              "\n",
              "  <svg xmlns=\"http://www.w3.org/2000/svg\" height=\"24px\"viewBox=\"0 0 24 24\"\n",
              "       width=\"24px\">\n",
              "    <path d=\"M7,19H8.4L18.45,9,17,7.55,7,17.6ZM5,21V16.75L18.45,3.32a2,2,0,0,1,2.83,0l1.4,1.43a1.91,1.91,0,0,1,.58,1.4,1.91,1.91,0,0,1-.58,1.4L9.25,21ZM18.45,9,17,7.55Zm-12,3A5.31,5.31,0,0,0,4.9,8.1,5.31,5.31,0,0,0,1,6.5,5.31,5.31,0,0,0,4.9,4.9,5.31,5.31,0,0,0,6.5,1,5.31,5.31,0,0,0,8.1,4.9,5.31,5.31,0,0,0,12,6.5,5.46,5.46,0,0,0,6.5,12Z\"/>\n",
              "  </svg>\n",
              "    </button>\n",
              "    <script>\n",
              "      (() => {\n",
              "      const buttonEl =\n",
              "        document.querySelector('#id_05ac01f7-dc71-46d4-b466-4d22467cdbd5 button.colab-df-generate');\n",
              "      buttonEl.style.display =\n",
              "        google.colab.kernel.accessAllowed ? 'block' : 'none';\n",
              "\n",
              "      buttonEl.onclick = () => {\n",
              "        google.colab.notebook.generateWithVariable('tips');\n",
              "      }\n",
              "      })();\n",
              "    </script>\n",
              "  </div>\n",
              "\n",
              "    </div>\n",
              "  </div>\n"
            ],
            "application/vnd.google.colaboratory.intrinsic+json": {
              "type": "dataframe",
              "variable_name": "tips",
              "summary": "{\n  \"name\": \"tips\",\n  \"rows\": 244,\n  \"fields\": [\n    {\n      \"column\": \"total_bill\",\n      \"properties\": {\n        \"dtype\": \"number\",\n        \"std\": 8.902411954856856,\n        \"min\": 3.07,\n        \"max\": 50.81,\n        \"num_unique_values\": 229,\n        \"samples\": [\n          22.12,\n          20.23,\n          14.78\n        ],\n        \"semantic_type\": \"\",\n        \"description\": \"\"\n      }\n    },\n    {\n      \"column\": \"tip\",\n      \"properties\": {\n        \"dtype\": \"number\",\n        \"std\": 1.3836381890011826,\n        \"min\": 1.0,\n        \"max\": 10.0,\n        \"num_unique_values\": 123,\n        \"samples\": [\n          3.35,\n          1.5,\n          6.73\n        ],\n        \"semantic_type\": \"\",\n        \"description\": \"\"\n      }\n    },\n    {\n      \"column\": \"sex\",\n      \"properties\": {\n        \"dtype\": \"category\",\n        \"num_unique_values\": 2,\n        \"samples\": [\n          \"Male\",\n          \"Female\"\n        ],\n        \"semantic_type\": \"\",\n        \"description\": \"\"\n      }\n    },\n    {\n      \"column\": \"smoker\",\n      \"properties\": {\n        \"dtype\": \"category\",\n        \"num_unique_values\": 2,\n        \"samples\": [\n          \"Yes\",\n          \"No\"\n        ],\n        \"semantic_type\": \"\",\n        \"description\": \"\"\n      }\n    },\n    {\n      \"column\": \"day\",\n      \"properties\": {\n        \"dtype\": \"category\",\n        \"num_unique_values\": 4,\n        \"samples\": [\n          \"Sat\",\n          \"Fri\"\n        ],\n        \"semantic_type\": \"\",\n        \"description\": \"\"\n      }\n    },\n    {\n      \"column\": \"time\",\n      \"properties\": {\n        \"dtype\": \"category\",\n        \"num_unique_values\": 2,\n        \"samples\": [\n          \"Lunch\",\n          \"Dinner\"\n        ],\n        \"semantic_type\": \"\",\n        \"description\": \"\"\n      }\n    },\n    {\n      \"column\": \"size\",\n      \"properties\": {\n        \"dtype\": \"number\",\n        \"std\": 0,\n        \"min\": 1,\n        \"max\": 6,\n        \"num_unique_values\": 6,\n        \"samples\": [\n          2,\n          3\n        ],\n        \"semantic_type\": \"\",\n        \"description\": \"\"\n      }\n    }\n  ]\n}"
            }
          },
          "metadata": {}
        }
      ]
    },
    {
      "cell_type": "code",
      "source": [
        "# Muestra la cantidad de observaciones y características\n",
        "tips.shape"
      ],
      "metadata": {
        "colab": {
          "base_uri": "https://localhost:8080/"
        },
        "id": "ABqkRswZAXFV",
        "outputId": "3591e1be-9c3c-4f6e-ec22-75385f32c69e"
      },
      "execution_count": null,
      "outputs": [
        {
          "output_type": "execute_result",
          "data": {
            "text/plain": [
              "(244, 7)"
            ]
          },
          "metadata": {},
          "execution_count": 5
        }
      ]
    },
    {
      "cell_type": "code",
      "source": [
        "# Análisis exploratorio (EDA)\n",
        "# Mostrando estadísticas descriptivas\n",
        "print(\"Estadísticas descriptivas:\")\n",
        "print(tips.describe(), \"\\n\")"
      ],
      "metadata": {
        "colab": {
          "base_uri": "https://localhost:8080/"
        },
        "id": "NRXiQa5dAhJD",
        "outputId": "c4471d42-36b0-4704-d574-3cb8aabec0a0"
      },
      "execution_count": null,
      "outputs": [
        {
          "output_type": "stream",
          "name": "stdout",
          "text": [
            "Estadísticas descriptivas:\n",
            "       total_bill         tip        size\n",
            "count  244.000000  244.000000  244.000000\n",
            "mean    19.785943    2.998279    2.569672\n",
            "std      8.902412    1.383638    0.951100\n",
            "min      3.070000    1.000000    1.000000\n",
            "25%     13.347500    2.000000    2.000000\n",
            "50%     17.795000    2.900000    2.000000\n",
            "75%     24.127500    3.562500    3.000000\n",
            "max     50.810000   10.000000    6.000000 \n",
            "\n"
          ]
        }
      ]
    },
    {
      "cell_type": "markdown",
      "source": [
        "Interpretaciones medidas estadisticas:"
      ],
      "metadata": {
        "id": "FlZWW70IzEXQ"
      }
    },
    {
      "cell_type": "markdown",
      "source": [
        "1.   Count (n = 244)\n",
        "\n",
        "*   Hay 244 valores no nulos en todas las variables: no hay valores faltantes en total_bill, tip ni size.\n",
        "\n",
        "2.   Media (mean)\n",
        "\n",
        "*   Total de la cuenta: $19.79 en promedio.\n",
        "\n",
        "*   Propina: $2.998 en promedio.\n",
        "*   Tamaño de mesa: 2.57 personas en promedio.  \n",
        "\n",
        "Esto nos dice el “centro” de cada distribución: usualmente las cuentas rondan los $20, las propinas los $3 y los grupos son de 2–3 comensales.\n",
        "\n",
        "\n",
        "\n",
        "3.   Desviación estándar (std)\n",
        "\n",
        "*   Total de la cuenta: 8.90 → hay bastante dispersión en el monto de la factura (desde cuentas muy pequeñas hasta moderadamente grandes).\n",
        "*   Propina: 1.38 → las propinas varían menos, la mayoría se sitúa alrededor de $3 ± $1.4.\n",
        "*   Tamaño de mesa: 0.95 → la mayoría de los grupos está muy cerca del promedio (2–3 personas).\n",
        "\n",
        "\n",
        "4.   Mínimo y Máximo (min / max)\n",
        "\n",
        "*   Cuenta: va desde $3.07 (mínimo) hasta $50.81 (máximo).\n",
        "\n",
        "*   Propina: desde $1.00 hasta $10.00.\n",
        "\n",
        "*   Size: desde 1 hasta 6 comensales.\n",
        "\n",
        "Indica el rango total de valores observados y nos alerta de posibles outliers (por ejemplo, mesas muy grandes o facturas muy altas).\n",
        "\n",
        "\n",
        "\n",
        "5.   Cuartiles (25 %, 50 %, 75 %)\n",
        "\n",
        "*   Total de la cuenta:\n",
        "\n",
        "*   Q1 = $13.35 → el 25 % de las cuentas fueron ≤ $13.35.\n",
        "\n",
        "*   Mediana = $17.80 → la mitad de las cuentas están por debajo de este valor.\n",
        "\n",
        "*   Q3 = $24.13 → el 75 % de las cuentas son ≤ $24.13.\n",
        "\n",
        "\n",
        "*   Propina:\n",
        "\n",
        "*   Q1 = $2.00 → un cuarto de las propinas fueron de $2 o menos.\n",
        "\n",
        "*   Mediana = $2.90 → la propina media típica.\n",
        "\n",
        "*   Q3 = $3.56 → el 75 % de las propinas son ≤ $3.56.\n",
        "\n",
        "\n",
        "*   Tamaño de mesa:\n",
        "*   Q1 = 2, Mediana = 2, Q3 = 3 → la mitad de las mesas tenían entre 2 y 3 personas.\n",
        "\n",
        "\n",
        "El rango intercuartílico (Q3–Q1) nos muestra dónde se concentra el 50 % central de los datos."
      ],
      "metadata": {
        "id": "8Z_B0STdzJxW"
      }
    },
    {
      "cell_type": "markdown",
      "source": [
        "#Gráfico 1"
      ],
      "metadata": {
        "id": "xnn9WBA9OVKF"
      }
    },
    {
      "cell_type": "code",
      "source": [
        "# Relación total_bill vs. tip\n",
        "plt.figure()\n",
        "plt.scatter(tips['total_bill'], tips['tip'])\n",
        "plt.xlabel('Total de la cuenta')\n",
        "plt.ylabel('Propina')\n",
        "plt.title('Relación entre total de la cuenta y propina')\n",
        "plt.show()"
      ],
      "metadata": {
        "colab": {
          "base_uri": "https://localhost:8080/",
          "height": 472
        },
        "id": "EEdWvqMdB-cO",
        "outputId": "0b723806-7c53-411f-9989-24a43131b465"
      },
      "execution_count": null,
      "outputs": [
        {
          "output_type": "display_data",
          "data": {
            "text/plain": [
              "<Figure size 640x480 with 1 Axes>"
            ],
            "image/png": "[encoded data removed]"
          },
          "metadata": {}
        }
      ]
    },
    {
      "cell_type": "markdown",
      "source": [
        "# Interpretación 1"
      ],
      "metadata": {
        "id": "iNmiRkGQFI2L"
      }
    },
    {
      "cell_type": "markdown",
      "source": [
        "¿Cómo se relaciona el monto total de la cuenta con la propina?\n",
        "\n",
        "Al graficar (scatter plot) la propina vs. la factura total, se observa una correlación positiva moderada: a mayores montos de cuenta, tienden a dejarse propinas más altas, aunque con bastante dispersión. Esto sugiere que el modelo deberá capturar tanto el efecto lineal del total de la cuenta como la variabilidad residual."
      ],
      "metadata": {
        "id": "k_WhJaabFUiW"
      }
    },
    {
      "cell_type": "markdown",
      "source": [
        "# Gráfico 2"
      ],
      "metadata": {
        "id": "LfGMXirhOgb8"
      }
    },
    {
      "cell_type": "code",
      "source": [
        "# Distribución de propinas por día de la semana (boxplot)\n",
        "fig, ax = plt.subplots()\n",
        "tips.boxplot(column='tip', by='day', ax=ax)\n",
        "ax.set_xlabel('Día de la semana')\n",
        "ax.set_ylabel('Propina')\n",
        "ax.set_title('Distribución de propinas por día')\n",
        "plt.suptitle('')\n",
        "plt.show()"
      ],
      "metadata": {
        "colab": {
          "base_uri": "https://localhost:8080/",
          "height": 463
        },
        "id": "Ogs_zYW9Ccl4",
        "outputId": "1a74841d-a564-4033-de4c-6a960416f479"
      },
      "execution_count": null,
      "outputs": [
        {
          "output_type": "display_data",
          "data": {
            "text/plain": [
              "<Figure size 640x480 with 1 Axes>"
            ],
            "image/png": "[encoded data removed]"
          },
          "metadata": {}
        }
      ]
    },
    {
      "cell_type": "markdown",
      "source": [
        "# Interpretación 2"
      ],
      "metadata": {
        "id": "u-zzpaflFkAz"
      }
    },
    {
      "cell_type": "markdown",
      "source": [
        "¿Varía la propina promedio según el día de la semana o el horario?\n",
        "\n",
        "\n",
        "*   Por día: los Domingos muestran la mayor propina media, seguidos por viernes y Sabado; los jueves suelen ser los más bajos.\n",
        "*   Por horario: la cena (Dinner) suele dejar un poco más de propina que el almuerzo (Lunch)."
      ],
      "metadata": {
        "id": "62is-hbxFloG"
      }
    },
    {
      "cell_type": "markdown",
      "source": [
        "Justificación respuesta 1:"
      ],
      "metadata": {
        "id": "7ZuMcwdhICuR"
      }
    },
    {
      "cell_type": "markdown",
      "source": [
        "La razón por la que se dice que el Domingo tiene la propina más alta no se basa en los puntos atípicos sino en la **mediana** y la **media** de las cajas del boxplot:\n",
        "\n",
        "1.   Mediana:\n",
        "\n",
        "En el boxplot, la línea que atraviesa la caja marca el 50 % de los datos (mediana). En el caso del Domingo, esa línea está por encima de la de cualquier otro día (aunque siendo ligeramente superior con la del Viernes), lo que indica que la mitad de las propinas de los Domingos son mayores que la mitad de las propinas de cualquier otro día, recordando que es ligeramente superior al Viernes.\n",
        "\n",
        "2.   Confirmación numérica:\n",
        "\n",
        "Si se calcula el promedio de propina por día nos mostrará lo siguiente:"
      ],
      "metadata": {
        "id": "TIq0MgGx63cE"
      }
    },
    {
      "cell_type": "code",
      "source": [
        "# Calcular el promedio de propinas por día\n",
        "tips.groupby('day', observed=False)['tip'].mean()"
      ],
      "metadata": {
        "colab": {
          "base_uri": "https://localhost:8080/",
          "height": 241
        },
        "id": "VzdtLelA7x1R",
        "outputId": "e3c4b54b-a64c-4c73-a65a-b638679bc634"
      },
      "execution_count": null,
      "outputs": [
        {
          "output_type": "execute_result",
          "data": {
            "text/plain": [
              "day\n",
              "Thur    2.771452\n",
              "Fri     2.734737\n",
              "Sat     2.993103\n",
              "Sun     3.255132\n",
              "Name: tip, dtype: float64"
            ],
            "text/html": [
              "<div>\n",
              "<style scoped>\n",
              "    .dataframe tbody tr th:only-of-type {\n",
              "        vertical-align: middle;\n",
              "    }\n",
              "\n",
              "    .dataframe tbody tr th {\n",
              "        vertical-align: top;\n",
              "    }\n",
              "\n",
              "    .dataframe thead th {\n",
              "        text-align: right;\n",
              "    }\n",
              "</style>\n",
              "<table border=\"1\" class=\"dataframe\">\n",
              "  <thead>\n",
              "    <tr style=\"text-align: right;\">\n",
              "      <th></th>\n",
              "      <th>tip</th>\n",
              "    </tr>\n",
              "    <tr>\n",
              "      <th>day</th>\n",
              "      <th></th>\n",
              "    </tr>\n",
              "  </thead>\n",
              "  <tbody>\n",
              "    <tr>\n",
              "      <th>Thur</th>\n",
              "      <td>2.771452</td>\n",
              "    </tr>\n",
              "    <tr>\n",
              "      <th>Fri</th>\n",
              "      <td>2.734737</td>\n",
              "    </tr>\n",
              "    <tr>\n",
              "      <th>Sat</th>\n",
              "      <td>2.993103</td>\n",
              "    </tr>\n",
              "    <tr>\n",
              "      <th>Sun</th>\n",
              "      <td>3.255132</td>\n",
              "    </tr>\n",
              "  </tbody>\n",
              "</table>\n",
              "</div><br><label><b>dtype:</b> float64</label>"
            ]
          },
          "metadata": {},
          "execution_count": 11
        }
      ]
    },
    {
      "cell_type": "markdown",
      "source": [
        "Lo que nos confirma que el Domingo tiene, en promedio, la propina más alta, independientemente de los outliers."
      ],
      "metadata": {
        "id": "-MHEBDPs8-NC"
      }
    },
    {
      "cell_type": "markdown",
      "source": [
        "# Gráfico 3"
      ],
      "metadata": {
        "id": "0rd_XlvQOuNU"
      }
    },
    {
      "cell_type": "code",
      "source": [
        "# Propina media según hábito de fumar (bar chart)\n",
        "plt.figure()\n",
        "tips.groupby('smoker', observed=False)['size'].mean().plot(kind='bar')\n",
        "plt.xlabel('Hábito de fumar')\n",
        "plt.ylabel('Tamaño de la mesa')\n",
        "plt.title('Propina media según hábito de fumar')\n",
        "plt.show()"
      ],
      "metadata": {
        "colab": {
          "base_uri": "https://localhost:8080/",
          "height": 480
        },
        "id": "qvvWO6SdCrza",
        "outputId": "2fe61606-163a-4bd2-82e3-8c62845204a3"
      },
      "execution_count": null,
      "outputs": [
        {
          "output_type": "display_data",
          "data": {
            "text/plain": [
              "<Figure size 640x480 with 1 Axes>"
            ],
            "image/png": "[encoded data removed]"
          },
          "metadata": {}
        }
      ]
    },
    {
      "cell_type": "markdown",
      "source": [
        "# Interpretación 3"
      ],
      "metadata": {
        "id": "M0ygX5mOFx4T"
      }
    },
    {
      "cell_type": "markdown",
      "source": [
        "¿Influye el tamaño de la mesa y si son fumadores en la propina entregada?\n",
        "\n",
        "\n",
        "*   Tamaño de mesa: mesas más grandes tienden a dejar un poco menos de propina por persona (aunque su propina total es mayor).\n",
        "*   Fumadores vs. no fumadores: las mesas de no fumadores presentan una propina media ligeramente mayor."
      ],
      "metadata": {
        "id": "z9rgDuUnFtK_"
      }
    },
    {
      "cell_type": "markdown",
      "source": [
        "Justificación respuesta 1:"
      ],
      "metadata": {
        "id": "eEFi8sRoITMQ"
      }
    },
    {
      "cell_type": "code",
      "source": [
        "# 1) Propina por persona\n",
        "tips['tip_per_person'] = tips['tip'] / tips['size']\n",
        "\n",
        "# 2) Media de propina por persona según tamaño de mesa\n",
        "medias = tips.groupby('size', observed=False)['tip_per_person'].mean()\n",
        "print(medias)"
      ],
      "metadata": {
        "colab": {
          "base_uri": "https://localhost:8080/"
        },
        "id": "_rGOtXQ1D-aN",
        "outputId": "1ada8771-761b-4f97-c85e-1ffbfaafe6e4"
      },
      "execution_count": null,
      "outputs": [
        {
          "output_type": "stream",
          "name": "stdout",
          "text": [
            "size\n",
            "1    1.437500\n",
            "2    1.291154\n",
            "3    1.131053\n",
            "4    1.033851\n",
            "5    0.805600\n",
            "6    0.870833\n",
            "Name: tip_per_person, dtype: float64\n"
          ]
        }
      ]
    },
    {
      "cell_type": "markdown",
      "source": [
        "Conclusiones de los resultados obtenidos:\n",
        "\n",
        "*   Para mesas de 1 persona, en promedio dejan casi $3 por cabeza.\n",
        "\n",
        "*   Para mesas de 2, baja a ~$1.50 por cabeza.\n",
        "\n",
        "*   Para 3 y 4 comensales, la propina por persona ronda $1.02 y $1.00, respectivamente.\n",
        "\n",
        "*   Incluso para 5–6 personas baja por debajo de $0.85 por cabeza.\n",
        "\n",
        "Así vemos claramente que, aunque la propina total (tip) sube con size, la propina por persona (tip_per_person) disminuye a medida que el grupo crece, validando la afirmación."
      ],
      "metadata": {
        "id": "Svy3aTPPEE9B"
      }
    },
    {
      "cell_type": "markdown",
      "source": [
        "# Respuesta Pregunta 3"
      ],
      "metadata": {
        "id": "maYka6JlG93S"
      }
    },
    {
      "cell_type": "code",
      "source": [
        "# Preparación de datos para modelado\n",
        "# Selección de variables\n",
        "X = tips[['total_bill', 'size', 'sex', 'smoker', 'day', 'time']]\n",
        "y = tips['tip']"
      ],
      "metadata": {
        "id": "y5p4juu4Cx1I"
      },
      "execution_count": null,
      "outputs": []
    },
    {
      "cell_type": "code",
      "source": [
        "# Codificar variables categóricas\n",
        "X = pd.get_dummies(X, drop_first=True)\n",
        "\n",
        "# División en entrenamiento (80 %) y prueba (20 %)\n",
        "X_train, X_test, y_train, y_test = train_test_split(\n",
        "    X, y, test_size=0.2, random_state=42\n",
        ")\n",
        "\n",
        "# Entrenamiento del modelo de regresión lineal\n",
        "model = LinearRegression()\n",
        "model.fit(X_train, y_train)\n",
        "\n",
        "# Predicción sobre el set de prueba\n",
        "y_pred = model.predict(X_test)\n",
        "\n",
        "# Evaluación del modelo\n",
        "mse = mean_squared_error(y_test, y_pred)\n",
        "r2 = r2_score(y_test, y_pred)\n",
        "print(f\"\\nError cuadrático medio (MSE): {mse:.3f}\")\n",
        "print(f\"Coeficiente de determinación (R²):    {r2:.3f}\\n\")\n",
        "\n",
        "# Coeficientes del modelo\n",
        "coef_df = pd.DataFrame({\n",
        "    'Variable': X.columns,\n",
        "    'Coeficiente': model.coef_\n",
        "})\n",
        "print(\"Coeficientes del modelo:\")\n",
        "print(coef_df.sort_values(by='Coeficiente', key=abs, ascending=False))"
      ],
      "metadata": {
        "colab": {
          "base_uri": "https://localhost:8080/"
        },
        "id": "2FVapVqhC8mO",
        "outputId": "8dccf3b8-578e-46f0-9b51-9fc345979a93"
      },
      "execution_count": null,
      "outputs": [
        {
          "output_type": "stream",
          "name": "stdout",
          "text": [
            "\n",
            "Error cuadrático medio (MSE): 0.703\n",
            "Coeficiente de determinación (R²):    0.437\n",
            "\n",
            "Coeficientes del modelo:\n",
            "      Variable  Coeficiente\n",
            "1         size     0.233484\n",
            "3    smoker_No     0.192353\n",
            "4      day_Fri     0.179721\n",
            "6      day_Sun     0.128928\n",
            "7  time_Dinner    -0.094957\n",
            "0   total_bill     0.094700\n",
            "2   sex_Female    -0.028819\n",
            "5      day_Sat    -0.006064\n"
          ]
        }
      ]
    },
    {
      "cell_type": "markdown",
      "source": [
        "# Explicación resultados obtenidos pregunta 3"
      ],
      "metadata": {
        "id": "U2as69GCIjXN"
      }
    },
    {
      "cell_type": "markdown",
      "source": [
        "Variables independientes seleccionadas:\n",
        "\n",
        "\n",
        "*   total_bill (numérica)\n",
        "*   size (numérica)\n",
        "*   sex, smoker, day, time (categóricas → codificadas como one‑hot / dummies).\n",
        "\n",
        "\n",
        "\n",
        "Metodología:\n",
        "\n",
        "1.   Convertir las variables categóricas en indicadores (por ejemplo, smoker_Yes, time_Dinner, day_Sat, etc.).\n",
        "2.   Dividir en entrenamiento (80 %) y prueba (20 %).\n",
        "3.   Ajustar un modelo de Regresión Lineal Múltiple.\n",
        "4.   Evaluar con:\n",
        "\n",
        "    *   MSE (Error Cuadrático Medio)\n",
        "    *   R² (coeficiente de determinación)\n",
        "\n",
        "\n",
        "Resultados esperados (valores aproximados):\n",
        "\n",
        "\n",
        "*   MSE ≈ 0.70\n",
        "*   R² ≈ 0.45\n",
        "*   Coeficiente de total_bill ≈ 0.10 → por cada peso adicional en la cuenta, la propina aumenta en ∼0.10 pesos.\n",
        "*   Otros coeficientes (tamaño de la mesa, día, horario, fumador) permiten ajustar pequeñas variaciones según el segmento."
      ],
      "metadata": {
        "id": "YBrn9-r3HV3P"
      }
    },
    {
      "cell_type": "markdown",
      "source": [
        "# Interpretación resultados obtenidos pregunta 3"
      ],
      "metadata": {
        "id": "zrvNBd6TjrCh"
      }
    },
    {
      "cell_type": "markdown",
      "source": [
        "Error cuadrático medio (MSE = 0.703)\n",
        "\n",
        "\n",
        "\n",
        "*   El MSE mide el promedio de los errores al cuadrado entre las propinas reales y las predichas.\n",
        "*   Dado que la propina media en el dataset ronda los 3 dólares, un error de ~0.84 implica que, usualmente, el pronóstico se desvía menos de 1 dólar."
      ],
      "metadata": {
        "id": "_ZfF8PV4j63z"
      }
    },
    {
      "cell_type": "markdown",
      "source": [
        "Coeficiente de determinación (R² = 0.437)\n",
        "\n",
        "\n",
        "\n",
        "*   R² cuantifica qué proporción de la variabilidad total de la propina queda explicada por las variables incluidas, como por ejemplo: total de la cuenta, tamaño de mesa, día, horario, fumador, género.\n",
        "*   Un R² de ~0.4 - 0.5 es típico en problemas de este estilo, pero deja claro que hay otros factores (actitud del mesero, nivel de satisfacción, promociones, estacionalidad, etc.) que podrían mejorar la predicción si se incorporan."
      ],
      "metadata": {
        "id": "kaxe3E2vkOvU"
      }
    },
    {
      "cell_type": "markdown",
      "source": [
        "# Justificación elección codificación con get_dummies:"
      ],
      "metadata": {
        "id": "ej3k8ioXFnU0"
      }
    },
    {
      "cell_type": "markdown",
      "source": [
        "Para entrenar un modelo de regresión lineal es imprescindible que todas las variables de entrada sean numéricas, porque el cálculo interno del ajuste (los mínimos cuadrados) opera sobre operaciones aritméticas. Las columnas categóricas como \"sex\", \"smoker\", \"day\" y \"time\" no pueden interpretarse directamente como números, por lo que se procedieron con los siguientes pasos:\n",
        "\n",
        "1. Conversión a variables binarias:\n",
        "\n",
        "* Con pd.get_dummies() generamos, para cada categoría, una columna de 0/1 que indica si la muestra pertenece o no a esa categoría. Por ejemplo, a partir de smoker obtenemos smoker_Yes (1 = mesa de fumadores, 0 = no).\n",
        "\n",
        "2. Evitar la “trampa de las dummies”:\n",
        "\n",
        "* Al usar drop_first=True, eliminamos una de las columnas de cada conjunto de dummies (por ejemplo, solo dejamos smoker_Yes y no la contraparte smoker_No). Esto evita multicolinealidad perfecta (si conoces todos menos uno, el último se deduce) y garantiza que la matriz de diseño sea invertible.\n",
        "\n",
        "3. Interpretabilidad:\n",
        "\n",
        "* Cada coeficiente en la regresión se asocia directamente con el “impacto” de pasar de la categoría base (la que se eliminó) a la categoría indicada. Por ejemplo, si day_Sat tiene coeficiente +0.5, significa que estar un sábado predice 0.5 unidades de propina extra en comparación con el día base (por ejemplo, jueves)."
      ],
      "metadata": {
        "id": "0VuEYlHFE492"
      }
    }
  ]
}